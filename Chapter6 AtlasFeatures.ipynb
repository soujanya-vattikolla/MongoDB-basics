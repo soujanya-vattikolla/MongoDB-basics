{
  "nbformat": 4,
  "nbformat_minor": 0,
  "metadata": {
    "colab": {
      "name": "Chapter6 Atlas Features.ipynb",
      "provenance": [],
      "collapsed_sections": [],
      "authorship_tag": "ABX9TyOHn7x5MkQ1KGih+u37bCk/",
      "include_colab_link": true
    },
    "kernelspec": {
      "name": "python3",
      "display_name": "Python 3"
    },
    "language_info": {
      "name": "python"
    }
  },
  "cells": [
    {
      "cell_type": "markdown",
      "metadata": {
        "id": "view-in-github",
        "colab_type": "text"
      },
      "source": [
        "<a href=\"https://colab.research.google.com/github/soujanya-vattikolla/MongoDB-basics/blob/main/Chapter6%20AtlasFeatures.ipynb\" target=\"_parent\"><img src=\"https://colab.research.google.com/assets/colab-badge.svg\" alt=\"Open In Colab\"/></a>"
      ]
    },
    {
      "cell_type": "markdown",
      "source": [
        "Atlas provides:\n",
        "\n",
        "* Performance Advisor using the Indexes tab \n",
        "* Aggregation Builder.\n",
        "* Atlas provides schema Anti-Pattern advisory \n",
        "* Advanced text search."
      ],
      "metadata": {
        "id": "G-oM2G8s-I2X"
      }
    },
    {
      "cell_type": "markdown",
      "source": [
        "**Question:<br>**\n",
        "\n",
        "What actions are available to you via the Aggregation Builder in the Atlas Data Explorer?<br>\n",
        "\n",
        "* Export pipeline to a programming language.\n",
        "* Syntax for each selected aggregation stage.\n",
        "* A preview of the data in the pipeline at each selected stage.\n"
      ],
      "metadata": {
        "id": "Y21F0-CDADGn"
      }
    },
    {
      "cell_type": "markdown",
      "source": [
        "**Question**:<br>\n",
        "\n",
        "What is MongoDB Charts? <br>\n",
        "\n",
        "A product that helps you build visualizations of the data stored in your Atlas Cluster."
      ],
      "metadata": {
        "id": "wu7C2izvB9s3"
      }
    },
    {
      "cell_type": "markdown",
      "source": [
        "**Quiz: Compass**\n",
        "Problem: <br>\n",
        "\n",
        "What is MongoDB Compass?<br>\n",
        "\n",
        "MongoDB's Graphical User Interface Product"
      ],
      "metadata": {
        "id": "hdHd7vWQCFgv"
      }
    }
  ]
}