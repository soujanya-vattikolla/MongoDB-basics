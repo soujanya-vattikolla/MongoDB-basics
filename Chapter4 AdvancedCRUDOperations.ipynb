{
  "nbformat": 4,
  "nbformat_minor": 0,
  "metadata": {
    "colab": {
      "name": "Chapter 4: Advanced CRUD Operations",
      "provenance": [],
      "collapsed_sections": [],
      "authorship_tag": "ABX9TyPV16pZrl6l6GlkQn7RTIFY",
      "include_colab_link": true
    },
    "kernelspec": {
      "name": "python3",
      "display_name": "Python 3"
    },
    "language_info": {
      "name": "python"
    }
  },
  "cells": [
    {
      "cell_type": "markdown",
      "metadata": {
        "id": "view-in-github",
        "colab_type": "text"
      },
      "source": [
        "<a href=\"https://colab.research.google.com/github/soujanya-vattikolla/MongoDB-basics/blob/main/Chapter4%20AdvancedCRUDOperations.ipynb\" target=\"_parent\"><img src=\"https://colab.research.google.com/assets/colab-badge.svg\" alt=\"Open In Colab\"/></a>"
      ]
    },
    {
      "cell_type": "markdown",
      "source": [
        "**Query Operators**- It provides the additional ways to locate data within the database.<br>\n",
        "**$** - has multiple uses.\n",
        "* precedes MQL operators\n",
        "* precedes aggregation pipeline stages\n",
        "* allows access to field values"
      ],
      "metadata": {
        "id": "cyn6QmkqTgJE"
      }
    },
    {
      "cell_type": "markdown",
      "source": [
        "**Comparison Operators**"
      ],
      "metadata": {
        "id": "NbQYOrnCVXhr"
      }
    },
    {
      "cell_type": "code",
      "source": [
        "# $eq = EQual to \n",
        "# $ne = Not Equal to\n",
        "\n",
        "# $gt > Greater Than\n",
        "# $lt < Less Than\n",
        "\n",
        "# $gte >= Greater Than or Equal To\n",
        "# $lt <= Less Than or Equal To\n",
        "\n",
        "# {<field>: {<operator>: <value>}}\n"
      ],
      "metadata": {
        "id": "7QdHY1ACVNUX"
      },
      "execution_count": null,
      "outputs": []
    },
    {
      "cell_type": "markdown",
      "source": [
        "When the comparator operator is not specified then $eq is default operator."
      ],
      "metadata": {
        "id": "0On75IXnWfvX"
      }
    },
    {
      "cell_type": "code",
      "source": [
        "# Connect to the Atlas cluster:\n",
        "# mongo \"mongodb+srv://<username>:<password>@<cluster>.mongodb.net/admin\"\n",
        "\n",
        "# use sample_training\n",
        "\n",
        "# Find all documents where the tripduration was less than or equal to 70 seconds and the usertype was not Subscriber:\n",
        "\n",
        "db.trips.find({ \"tripduration\": { \"$lte\" : 70 },\n",
        "                \"usertype\": { \"$ne\": \"Subscriber\" } }).pretty()\n",
        "\n",
        "# Find all documents where the tripduration was less than or equal to 70 seconds and the usertype was Customer using a redundant equality operator:\n",
        "\n",
        "db.trips.find({ \"tripduration\": { \"$lte\" : 70 },\n",
        "                \"usertype\": { \"$eq\": \"Customer\" }}).pretty()\n",
        "\n",
        "# Find all documents where the tripduration was less than or equal to 70 seconds and the usertype was Customer using the implicit equality operator:\n",
        "\n",
        "db.trips.find({ \"tripduration\": { \"$lte\" : 70 },\n",
        "                \"usertype\": \"Customer\" }).pretty()\n"
      ],
      "metadata": {
        "id": "F6mYXM6oWnTm"
      },
      "execution_count": null,
      "outputs": []
    },
    {
      "cell_type": "markdown",
      "source": [
        "**Problem:**\n",
        "\n",
        "How many documents in the sample_training.zips collection have fewer than 1000 people listed in the pop field? <br>\n",
        "\n",
        "db.zips.find({ \"pop\": { \"$lt\": 1000 }}).count()"
      ],
      "metadata": {
        "id": "fy0UXWtFrzfg"
      }
    },
    {
      "cell_type": "markdown",
      "source": [
        "**Question**: What is the difference between the number of people born in 1998 and the number of people born after 1998 in the sample_training.trips collection?<br>\n",
        "db.trips.find({\"birth year\":1998}).count()  <br>\n",
        "db.trips.find({\"birth year\":{\"$gt\":1998}}).count() "
      ],
      "metadata": {
        "id": "lNRG1_K6b8Nw"
      }
    },
    {
      "cell_type": "code",
      "source": [
        "# Question: \n",
        "\n",
        "Using the sample_training.routes collection find out which of the following statements will return all routes that have at least one stop in them?\n",
        "\n",
        "db.routes.find({ \"stops\": { \"$gt\": 0 }}).pretty()\n",
        "\n",
        "The given query looks for strict equality where the stops field has to be greater than zero, thus excluding all zero stops.\n",
        "\n",
        "db.routes.find({ \"stops\": { \"$ne\": 0 }}).pretty()\n",
        "\n",
        "This query will also work, given that there are no non-negative or non- numeric values in this collection. It returns all documents where the stops field is not equal to 0."
      ],
      "metadata": {
        "id": "ZClXgttMsfmF"
      },
      "execution_count": null,
      "outputs": []
    },
    {
      "cell_type": "code",
      "source": [
        "Logic operators\n",
        "\n",
        "1. $and : Match all of the specified query clauses.\n",
        "2. $or : At least one of the query clauses is matched.\n",
        "3. $nor: Fail to match both given clauses.\n",
        "4. $not: Negates the query requirement."
      ],
      "metadata": {
        "id": "l483MI8_y_79"
      },
      "execution_count": null,
      "outputs": []
    },
    {
      "cell_type": "code",
      "source": [
        "1. $and : Match all of the specified query clauses.\n",
        "2. $or : At least one of the query clauses is matched.\n",
        "3. $nor: Fail to match both given clauses.\n",
        "has the following statement:\n",
        "\n",
        "{<operator> : [ {statement1}, {statement2},...]}\n",
        "\n",
        "4. $not: \n",
        "{$not : [ {statement}}"
      ],
      "metadata": {
        "id": "QOaqliOTzXk3"
      },
      "execution_count": null,
      "outputs": []
    },
    {
      "cell_type": "markdown",
      "source": [
        "$and is used as the **default operator** when an operator is not specified."
      ],
      "metadata": {
        "id": "fcRcJVgh0n-Q"
      }
    },
    {
      "cell_type": "markdown",
      "source": [
        "**Implicit $and** "
      ],
      "metadata": {
        "id": "oBmcEpei19cX"
      }
    },
    {
      "cell_type": "code",
      "source": [
        "Example: Find which student ids are (>25) and (<100) in the sample_training.grades collection\n",
        "\n",
        "{\"student_id\": {\"$gt\":25, \"$lt\":100}}"
      ],
      "metadata": {
        "id": "cV9IlfMp19sv"
      },
      "execution_count": null,
      "outputs": []
    },
    {
      "cell_type": "markdown",
      "source": [
        "**Explicit $and**"
      ],
      "metadata": {
        "id": "qQ5qqCH31vmO"
      }
    },
    {
      "cell_type": "code",
      "source": [
        "Example: Using the routes collection find out how many CR2 and A81 airplanes come through the KZN airport?\n",
        "\n",
        "{\"$and\": [ {\"$or\": [{dst_airport : \"KZN\"}, {src_airport: \"KZN\"}]}, { {\"$or\": [{airplane : \"CR2\"}, {airplane: \"A81\"}]}}}"
      ],
      "metadata": {
        "id": "x_wzMX6a2Htf"
      },
      "execution_count": null,
      "outputs": []
    },
    {
      "cell_type": "code",
      "source": [
        "Question: \n",
        "\n",
        "How many businesses in the sample_training.inspections dataset have the inspection result \"Out of Business\" and belong to the \"Home Improvement Contractor - 100\" sector?\n",
        "\n",
        "{\"$and\": [ { result : \"Out of Business\"}, {sector : \"Home Improvement Contractor - 100\"}]}\n",
        "\n",
        "result: 4\n"
      ],
      "metadata": {
        "id": "xKeYftNm4G90"
      },
      "execution_count": null,
      "outputs": []
    },
    {
      "cell_type": "code",
      "source": [
        "Problem:\n",
        "\n",
        "Which is the most succinct query to return all documents from the sample_training.inspections collection where the inspection date is either \"Feb 20 2015\", or \"Feb 21 2015\" and the company is not part of the \"Cigarette Retail Dealer - 127\" sector?\n",
        "\n",
        "db.inspections.find({\"$or\": [ { \"date\": \"Feb 20 2015\"}, \n",
        "                             { \"date\": \"Feb 21 2015\"}], \n",
        "                     \"sector\": {\"$ne\":\"Cigaratte Retail Dealer-127\"}}).pretty()"
      ],
      "metadata": {
        "id": "UJsofbB-5jo7"
      },
      "execution_count": null,
      "outputs": []
    },
    {
      "cell_type": "code",
      "source": [
        "How many zips in the sample_training.zips dataset are neither over-populated nor under-populated?\n",
        "In this case, we consider population of more than 1,000,000 to be over- populated and less than 5,000 to be under-populated.\n",
        "\n",
        "db.zips.find({ \"pop\": { \"$gte\": 5000, \"$lte\": 1000000 }}).count()\n",
        "\n",
        "or \n",
        "\n",
        "db.zips.find({ \"$nor\": [ { \"pop\": { \"$lt\":5000 } },\n",
        "             { \"pop\": { \"$gt\": 1000000 } } ] } ).count()"
      ],
      "metadata": {
        "id": "CCRSI6kV-Cj5"
      },
      "execution_count": null,
      "outputs": []
    },
    {
      "cell_type": "code",
      "source": [
        "How many companies in the sample_training.companies dataset were either founded in 2004\n",
        "[and] either have the social category_code [or] web category_code,\n",
        "[or] were founded in the month of October\n",
        "[and] also either have the social category_code [or] web category_code?\n",
        "\n",
        "\n",
        "db.companies.find({ \"$and\": [\n",
        "                        { \"$or\": [ { \"founded_year\": 2004 },\n",
        "                                   { \"founded_month\": 10 } ] },\n",
        "                        { \"$or\": [ { \"category_code\": \"web\" },\n",
        "                                   { \"category_code\": \"social\" }]}]}).count()\n"
      ],
      "metadata": {
        "id": "Y1giVySYDL23"
      },
      "execution_count": null,
      "outputs": []
    },
    {
      "cell_type": "markdown",
      "source": [
        "**Expressive Query Operator**"
      ],
      "metadata": {
        "id": "mdwjOrlkMg6K"
      }
    },
    {
      "cell_type": "code",
      "source": [
        "$expr:\n",
        "1. It allows the use of aggregation expressions within the query language.\n",
        "2. $expr: { <expression> }\n",
        "3. $expr also allows us to use variables and conditional statements."
      ],
      "metadata": {
        "id": "ljzhsW89UEXR"
      },
      "execution_count": null,
      "outputs": []
    },
    {
      "cell_type": "markdown",
      "source": [
        "**$** denotes the use of an operator and addresses the field value."
      ],
      "metadata": {
        "id": "pg6ktMJtNu6t"
      }
    },
    {
      "cell_type": "markdown",
      "source": [
        "**Aggregation Syntax**"
      ],
      "metadata": {
        "id": "DH8n2UQukL-e"
      }
    },
    {
      "cell_type": "code",
      "source": [
        "{ <operator> : { <field>, <value> } }"
      ],
      "metadata": {
        "id": "w4WlcwbgMi4C"
      },
      "execution_count": null,
      "outputs": []
    },
    {
      "cell_type": "code",
      "source": [
        "# Examples:\n",
        "\n",
        "1. Find all documents where the trip started and ended at the same station:\n",
        "\n",
        "db.trips.find({ \"$expr\": { \"$eq\": [ \"$end station id\", \"$start station id\"] } }).count()\n",
        "\n",
        "2. Find all documents where the trip lasted longer than 1200 seconds, and started and ended at the same station:\n",
        "\n",
        "db.trips.find({ \"$expr\": { \"$and\": [ { \"$gt\": [ \"$tripduration\", 1200 ]},\n",
        "                         { \"$eq\": [ \"$end station id\", \"$start station id\" ]}\n",
        "                         ]}}).count()\n"
      ],
      "metadata": {
        "id": "KoVQu9vzkrjx"
      },
      "execution_count": null,
      "outputs": []
    },
    {
      "cell_type": "code",
      "source": [
        "# Problem:\n",
        "\n",
        "\n",
        "Which of the following statements will find all the companies that have more employees than the year in which they were founded?\n",
        "\n",
        "1. db.companies.find(\n",
        "    { \"$expr\": { \"$lt\": [ \"$founded_year\", \"$number_of_employees\" ] } }).count()\n",
        "\n",
        "  or\n",
        "\n",
        "2. db.companies.find(\n",
        "    { \"$expr\": { \"$gt\": [ \"$number_of_employees\", \"$founded_year\" ]} }).count()\n"
      ],
      "metadata": {
        "id": "ajeEvyYEl1tJ"
      },
      "execution_count": null,
      "outputs": []
    },
    {
      "cell_type": "code",
      "source": [
        "Question:\n",
        "How many companies in the sample_training.companies collection have the same permalink as their twitter_username?\n",
        "\n",
        "db.companies.find({ \"$expr\": { \"$eq\": [ \"$permalink\", \"$twitter_username\" ] }}).count()"
      ],
      "metadata": {
        "id": "1z8OiLblmLke"
      },
      "execution_count": null,
      "outputs": []
    },
    {
      "cell_type": "markdown",
      "source": [
        "**Array Operators**"
      ],
      "metadata": {
        "id": "Qw3GhBploWBP"
      }
    },
    {
      "cell_type": "markdown",
      "source": [
        "$push, \n",
        "* To add an element to an array \n",
        "* Turn a field into an array field if it was previously a different type of value."
      ],
      "metadata": {
        "id": "xVST3wTbqp4n"
      }
    },
    {
      "cell_type": "markdown",
      "source": [
        "**$size** \n",
        "* The array operator will return**all documents where the specified array field is exactly the given length.**\n"
      ],
      "metadata": {
        "id": "RyXko5YUsJVD"
      }
    },
    {
      "cell_type": "markdown",
      "source": [
        "**$all** \n",
        "* The array operator will return a cursor with all documents in which the specified array field contains all the given elements, **regardless of their order in the array.**\n"
      ],
      "metadata": {
        "id": "DPV8RWEDsQ2M"
      }
    },
    {
      "cell_type": "markdown",
      "source": [
        "* When **querying an array field with an array match**, MongoDB will look for an **exact array match**, unless specified otherwise.\n",
        "\n",
        "* When **querying an array field with a single element**, MongoDB will return all documents where the **specified array field contains this given element**."
      ],
      "metadata": {
        "id": "CXD1unJ3sju4"
      }
    },
    {
      "cell_type": "code",
      "source": [
        "# Example:\n",
        "\n",
        "Find all documents with exactly 20 amenities which include all the amenities listed in the query array:\n",
        "\n",
        "db.listingsAndReviews.find({ \"amenities\": {\n",
        "                                  \"$size\": 20,\n",
        "                                  \"$all\": [ \"Internet\", \"Wifi\",  \"Kitchen\",\n",
        "                                           \"Heating\", \"Family/kid friendly\",\n",
        "                                           \"Washer\", \"Dryer\", \"Essentials\",\n",
        "                                           \"Shampoo\", \"Hangers\",\n",
        "                                           \"Hair dryer\", \"Iron\",\n",
        "                                           \"Laptop friendly workspace\" ]\n",
        "                                         }\n",
        "                            }).pretty()"
      ],
      "metadata": {
        "id": "R4dmw0C9qUWo"
      },
      "execution_count": null,
      "outputs": []
    },
    {
      "cell_type": "code",
      "source": [
        "# Question:\n",
        "\n",
        "What is the name of the listing in the sample_airbnb.listingsAndReviews dataset that accommodates more than 6 people and has exactly 50 reviews?\n",
        "\n",
        "db.listingsAndReviews.find({ \"reviews\": { \"$size\":50 },\n",
        "                             \"accommodates\": { \"$gt\":6 }})\n",
        "\n"
      ],
      "metadata": {
        "id": "IAGyCaQEttMo"
      },
      "execution_count": null,
      "outputs": []
    },
    {
      "cell_type": "code",
      "source": [
        "#  Question\n",
        "\n",
        "Using the sample_airbnb.listingsAndReviews collection find out how many documents have the \"property_type\" \"House\", and include \"Changing table\" as one of the \"amenities\"?\n",
        "\n",
        "db.listingsAndReviews.find({ \"property_type\": \"House\",\n",
        "                             \"amenities\": \"Changing table\" }).count()\n",
        "\n",
        "or\n",
        "\n",
        "db.listingsAndReviews.find({ \"property_type\" :\"House\", \"amenities\" : {\"$all\": [\"Changing table\"] } }).count()\n"
      ],
      "metadata": {
        "id": "VyxQYllYXupc"
      },
      "execution_count": null,
      "outputs": []
    },
    {
      "cell_type": "code",
      "source": [
        "# Question:\n",
        "\n",
        "Which of the following queries will return all listings that have \"Free parking on premises\", \"Air conditioning\", and \"Wifi\" as part of their amenities, and have at least 2 bedrooms in the sample_airbnb.listingsAndReviews collection?\n",
        "\n",
        "db.listingsAndReviews.find(\n",
        "  { \"amenities\":\n",
        "     { \"$all\": [ \"Free parking on premises\", \"Wifi\", \"Air conditioning\" ] },\n",
        "    \"bedrooms\": { \"$gte\":  2 } }).pretty()\n",
        "    "
      ],
      "metadata": {
        "id": "v0ZDStd5aG-y"
      },
      "execution_count": null,
      "outputs": []
    },
    {
      "cell_type": "markdown",
      "source": [
        "**Array Operators and Projection**"
      ],
      "metadata": {
        "id": "WxODHXpRapx_"
      }
    },
    {
      "cell_type": "code",
      "source": [
        " # Projection syntax\n",
        "\n",
        " db.<collection>.find( {<query>}, {<projection>})\n",
        "\n",
        " 1 - include the field\n",
        " 0 - exclude the field\n",
        " Use only 1s and 0s"
      ],
      "metadata": {
        "id": "nNek5wB3aqp_"
      },
      "execution_count": null,
      "outputs": []
    },
    {
      "cell_type": "markdown",
      "source": [
        "**elemMatch**"
      ],
      "metadata": {
        "id": "-OiN1hHmdER-"
      }
    },
    {
      "cell_type": "code",
      "source": [
        "{<field> : { \"$elemMatch\": { <field> : <value> }}}\n",
        "\n",
        "elemMatch matches documents that contain an array field with at least one element that matches all the specified query criteria, or \n",
        "projects only the array elements with at least one element that matches the specified criteria."
      ],
      "metadata": {
        "id": "bvlOGIfuc3nu"
      },
      "execution_count": null,
      "outputs": []
    },
    {
      "cell_type": "code",
      "source": [
        "# Find all documents with exactly 20 amenities which include all the amenities listed in the query array, and display their price and address:\n",
        "\n",
        "db.listingsAndReviews.find({ \"amenities\":\n",
        "        { \"$size\": 20, \"$all\": [ \"Internet\", \"Wifi\",  \"Kitchen\", \"Heating\",\n",
        "                                 \"Family/kid friendly\", \"Washer\", \"Dryer\",\n",
        "                                 \"Essentials\", \"Shampoo\", \"Hangers\",\n",
        "                                 \"Hair dryer\", \"Iron\",\n",
        "                                 \"Laptop friendly workspace\" ] } },\n",
        "                            {\"price\": 1, \"address\": 1}).pretty()\n"
      ],
      "metadata": {
        "id": "jV__UUaRdVTD"
      },
      "execution_count": null,
      "outputs": []
    },
    {
      "cell_type": "code",
      "source": [
        "# Find all documents that have Wifi as one of the amenities only include price and address in the resulting cursor:\n",
        "\n",
        "db.listingsAndReviews.find({ \"amenities\": \"Wifi\" },\n",
        "                           { \"price\": 1, \"address\": 1, \"_id\": 0 }).pretty()\n"
      ],
      "metadata": {
        "id": "7KCothxhdcDf"
      },
      "execution_count": null,
      "outputs": []
    },
    {
      "cell_type": "code",
      "source": [
        "# Find all documents where the student in class 431 received a grade higher than 85 for any type of assignment:\n",
        "\n",
        "db.grades.find({ \"class_id\": 431 },\n",
        "               { \"scores\": { \"$elemMatch\": { \"score\": { \"$gt\": 85 } } }\n",
        "             }).pretty()"
      ],
      "metadata": {
        "id": "7Hsj-dz_diUa"
      },
      "execution_count": null,
      "outputs": []
    },
    {
      "cell_type": "code",
      "source": [
        "# Find all documents where the student had an extra credit score:\n",
        "\n",
        "db.grades.find({ \"scores\": { \"$elemMatch\": { \"type\": \"extra credit\" } }\n",
        "               }).pretty()"
      ],
      "metadata": {
        "id": "pK4CNKWWdkIp"
      },
      "execution_count": null,
      "outputs": []
    },
    {
      "cell_type": "code",
      "source": [
        "Question:\n",
        "\n",
        "How many companies in the sample_training.companies collection have offices in the city of Seattle?\n",
        "\n",
        "db.companies.find({ \"offices\": { \"$elemMatch\": { \"city\": \"Seattle\" } }\n",
        "                  }).count()"
      ],
      "metadata": {
        "id": "cTtefVtJdtzn"
      },
      "execution_count": null,
      "outputs": []
    },
    {
      "cell_type": "code",
      "source": [
        "Question\n",
        "\n",
        "Which of the following queries will return only the names of companies from the sample_training.companies collection that had exactly 8 funding rounds?\n",
        "\n",
        "db.companies.find({ \"funding_rounds\": { \"$size\": 8 } },\n",
        "                  { \"name\": 1, \"_id\": 0 })"
      ],
      "metadata": {
        "id": "ps1IM2APh9cz"
      },
      "execution_count": null,
      "outputs": []
    },
    {
      "cell_type": "markdown",
      "source": [
        "**Array Operators and Sub-Documents**"
      ],
      "metadata": {
        "id": "FWu0s0qklN6z"
      }
    },
    {
      "cell_type": "markdown",
      "source": [
        "MQL uses **dot notation** to specify the address of nested elements in a document.<br>\n",
        "To specify the position of the element in the array.\n"
      ],
      "metadata": {
        "id": "5HHmnlp5m5dX"
      }
    },
    {
      "cell_type": "code",
      "source": [
        "# Examples:\n",
        "\n",
        "use sample_training\n",
        "\n",
        "db.trips.findOne({ \"start station location.type\": \"Point\" })\n",
        "\n",
        "db.companies.find({ \"relationships.0.person.last_name\": \"Zuckerberg\" },\n",
        "                  { \"name\": 1 }).pretty()\n",
        "\n",
        "db.companies.find({ \"relationships.0.person.first_name\": \"Mark\",\n",
        "                    \"relationships.0.title\": { \"$regex\": \"CEO\" } },\n",
        "                  { \"name\": 1 }).count()\n",
        "\n",
        "\n",
        "db.companies.find({ \"relationships.0.person.first_name\": \"Mark\",\n",
        "                    \"relationships.0.title\": {\"$regex\": \"CEO\" } },\n",
        "                  { \"name\": 1 }).pretty()\n",
        "\n",
        "db.companies.find({ \"relationships\":\n",
        "                      { \"$elemMatch\": { \"is_past\": true,\n",
        "                                        \"person.first_name\": \"Mark\" } } },\n",
        "                  { \"name\": 1 }).pretty()\n",
        "\n",
        "db.companies.find({ \"relationships\":\n",
        "                      { \"$elemMatch\": { \"is_past\": true,\n",
        "                                        \"person.first_name\": \"Mark\" } } },\n",
        "                  { \"name\": 1 }).count()"
      ],
      "metadata": {
        "id": "IOcvLvXBlNZ6"
      },
      "execution_count": null,
      "outputs": []
    },
    {
      "cell_type": "code",
      "source": [
        "Question\n",
        "\n",
        "How many trips in the sample_training.trips collection started at stations that are to the west of the -74 longitude coordinate?\n",
        "\n",
        "db.trips.find({ \"start station location.coordinates.0\": { \"$lt\": -74 }}).count() \n",
        "\n",
        "or \n",
        "\n",
        "db.trips.find({ \"start station location.coordinates\": { \"$lt\": -74 }}).count() "
      ],
      "metadata": {
        "id": "PjPfPG0yq4jV"
      },
      "execution_count": null,
      "outputs": []
    },
    {
      "cell_type": "code",
      "source": [
        "Question:\n",
        "\n",
        "How many inspections from the sample_training.inspections collection were conducted in the city of NEW YORK?\n",
        "\n",
        "\n",
        "db.inspections.find({ \"address.city\": \"NEW YORK\" }).count()"
      ],
      "metadata": {
        "id": "riDmPs4NrEPE"
      },
      "execution_count": null,
      "outputs": []
    },
    {
      "cell_type": "code",
      "source": [
        "Problem:\n",
        "\n",
        "Which of the following queries will return the names and addresses of all listings from the sample_airbnb.listingsAndReviews collection where the first amenity in the list is \"Internet\"?\n",
        "\n",
        "db.listingsAndReviews.find({ \"amenities.0\": \"Internet\" },\n",
        "                           { \"name\": 1, \"address\": 1 }).pretty()\n",
        "                           "
      ],
      "metadata": {
        "id": "8Uu8BKcYt0eL"
      },
      "execution_count": null,
      "outputs": []
    }
  ]
}