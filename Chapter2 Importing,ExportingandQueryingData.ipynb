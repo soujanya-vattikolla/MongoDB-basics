{
  "nbformat": 4,
  "nbformat_minor": 0,
  "metadata": {
    "colab": {
      "name": "Chapter 2: Importing, Exporting, and Querying Data",
      "provenance": [],
      "collapsed_sections": [],
      "authorship_tag": "ABX9TyNlncx2XfaaHNEVAjhZYQRv",
      "include_colab_link": true
    },
    "kernelspec": {
      "name": "python3",
      "display_name": "Python 3"
    },
    "language_info": {
      "name": "python"
    }
  },
  "cells": [
    {
      "cell_type": "markdown",
      "metadata": {
        "id": "view-in-github",
        "colab_type": "text"
      },
      "source": [
        "<a href=\"https://colab.research.google.com/github/soujanya-vattikolla/MongoDB-basics/blob/main/Chapter2%20Importing%2CExportingandQueryingData.ipynb\" target=\"_parent\"><img src=\"https://colab.research.google.com/assets/colab-badge.svg\" alt=\"Open In Colab\"/></a>"
      ]
    },
    {
      "cell_type": "markdown",
      "source": [
        "**How are documents represented in memory?**\n"
      ],
      "metadata": {
        "id": "eTLJhaOUxoZB"
      }
    },
    {
      "cell_type": "markdown",
      "source": [
        "**JSON**<br>\n",
        "JavaScript Standard Object Notation <br>\n",
        "**Json format**\n",
        "* Json should start and end with {}\n",
        "* Seperate each key and value with a colon :\n",
        "* Seperate each key:value pair with a comma ,\n",
        "* \"keys\" must be surrounded by quotation marks \" \"\n",
        "* In MongoDB \"keys\" are called \"fields\"\n"
      ],
      "metadata": {
        "id": "1SaCCl-1CUdo"
      }
    },
    {
      "cell_type": "markdown",
      "source": [
        "ex: {   \"id\" : 100,     <br>\n",
        "        \"name\" : \"Tom\",  <br>\n",
        "    }"
      ],
      "metadata": {
        "id": "laTdXdc0P9kg"
      }
    },
    {
      "cell_type": "markdown",
      "source": [
        "**Pros of Json**\n",
        "* Familiar\n",
        "* Friendly\n",
        "* Readable<br>\n",
        "\n",
        "**Cons of Json**\n",
        "* Text-based format\n",
        "* Space-consuming\n",
        "* Limited number of basic datatypes"
      ],
      "metadata": {
        "id": "rDL-HPR1T_t7"
      }
    },
    {
      "cell_type": "markdown",
      "source": [
        "**Binary JSON (BSON):**<br>\n",
        "Bridges the gap between binary representation and JSON format.<br>\n",
        "\n",
        "**Pros:**<br>\n",
        "* Speed <br>\n",
        "* Space <br>\n",
        "* Flexibility<br>\n",
        "* High performance"
      ],
      "metadata": {
        "id": "HedlHgRcXC7c"
      }
    },
    {
      "cell_type": "markdown",
      "source": [
        "**Difference between JSON and BSON**<br>\n",
        "**JSON**\n",
        "Encoding: UTF-8 string   <br>\n",
        "Data Support : String, Boolean, Number, Array <br>\n",
        "Readability: Human and Machine <br>\n",
        "\n",
        "**BSON**\n",
        "Encoding: Binary <br>\n",
        "Data Support: String, Boolean, Number(Integer, Long, Float,....), Array, Date, Raw binary <br>\n",
        "Readability: Machine only <br>\n",
        "\n"
      ],
      "metadata": {
        "id": "Y39TxnhKYfb8"
      }
    },
    {
      "cell_type": "markdown",
      "source": [
        "**Quiz:**<br>\n",
        "Problem: <br>\n",
        "\n",
        "Which of the following documents is correct JSON? <br>\n",
        "\n",
        "* {\"name\" : \"Devi\", \"age\": 19, \"major\": \"Computer Science\"}\n",
        "\n",
        "The document starts and ends with curly brackets, all field names are enclosed in quotes, all field:value pairs are separated by commas.\n",
        "\n"
      ],
      "metadata": {
        "id": "dxNTCJqWlFJ1"
      }
    },
    {
      "cell_type": "markdown",
      "source": [
        "**Quiz**:<br>\n",
        "Problem:<br>\n",
        "\n",
        "Write BSON or JSON in the numbered blanks in the following sentences to make them true:\n",
        "\n",
        "MongoDB stores data in **BSON**, and you can then view it in **JSON**,<br>\n",
        "\n",
        "**BSON** is faster to parse and lighter to store than **JSON**. <br>\n",
        "\n",
        "**JSON** supports fewer data types than **BSON**."
      ],
      "metadata": {
        "id": "rjFDXKKclcEc"
      }
    },
    {
      "cell_type": "markdown",
      "source": [
        "**Import and Export**"
      ],
      "metadata": {
        "id": "4aVbSTsqaYT6"
      }
    },
    {
      "cell_type": "markdown",
      "source": [
        "In JSON we use:\n",
        "* mongoimport \n",
        "* mongoexport <br>\n",
        "\n",
        "In BSON we use:\n",
        "* mongorestore\n",
        "* mongodump"
      ],
      "metadata": {
        "id": "AQ9ZSO7EcbRo"
      }
    },
    {
      "cell_type": "markdown",
      "source": [
        "* URI - Uniform Resource Identifier \n",
        "* SRV - establishes a secure connection between your application and a MongoDB instance."
      ],
      "metadata": {
        "id": "8UEDpzpUhakm"
      }
    },
    {
      "cell_type": "markdown",
      "source": [
        "**Quiz:** <br>\n",
        "Problem:<br>\n",
        "\n",
        "Which of the following commands will add a collection that is stored in animals.json to an Atlas cluster?\n",
        "\n",
        "* mongoimport <br>\n",
        "mongoimport can import data from JSON, and other supported non BSON formats.\n",
        "\n"
      ],
      "metadata": {
        "id": "4XQVKhr8mJbP"
      }
    },
    {
      "cell_type": "markdown",
      "source": [
        "\n",
        "\n",
        "**Exporting the data**<br>\n",
        "\n",
        "This command will **exports data in BSON** <br>\n",
        "mongodump --uri \" Atlas Cluster URI\" <br>\n",
        "\n",
        "This command will **exports data in JSON** <br>\n",
        "mongoexport --uri \"Atlas Cluster URI\" <br> \n",
        "--collection= collection name <br>\n",
        "--out=filename.json   <br>\n",
        "\n"
      ],
      "metadata": {
        "id": "OJZrwV5QdaB0"
      }
    },
    {
      "cell_type": "markdown",
      "source": [
        "**Importing the data**<br>\n",
        "\n",
        "This command will **import data in BSON dump** <br>\n",
        "mongorestore --uri \" Atlas Cluster URI\" <br>\n",
        "--drop dump <br>\n",
        "\n",
        "This command will **import data in JSON** <br>\n",
        "mongoimport --uri \"Atlas Cluster URI\" <br> \n",
        "--collection= collection name <br>\n",
        "--drop=filename.json   <br>"
      ],
      "metadata": {
        "id": "SSaJs7QZd-eS"
      }
    },
    {
      "cell_type": "code",
      "source": [
        "# Examples:\n",
        "\n",
        "mongodump --uri \"mongodb+srv://<your username>:<your password>@<your cluster>.mongodb.net/sample_supplies\"\n",
        "\n",
        "mongoexport --uri=\"mongodb+srv://<your username>:<your password>@<your cluster>.mongodb.net/sample_supplies\" --collection=sales --out=sales.json\n",
        "\n",
        "mongorestore --uri \"mongodb+srv://<your username>:<your password>@<your cluster>.mongodb.net/sample_supplies\"  --drop dump\n",
        "\n",
        "mongoimport --uri=\"mongodb+srv://<your username>:<your password>@<your cluster>.mongodb.net/sample_supplies\" --drop sales.json"
      ],
      "metadata": {
        "id": "ILQiGJLviYf2"
      },
      "execution_count": null,
      "outputs": []
    },
    {
      "cell_type": "markdown",
      "source": [
        "Q. Which of the following commands will add a collection that is stored in animals.json to an Atlas cluster? <br>\n",
        "mongoimport"
      ],
      "metadata": {
        "id": "ynk-xjnSgb4r"
      }
    },
    {
      "cell_type": "markdown",
      "source": [
        "**Data Explorer**\n",
        "\n",
        "Atlas UI provides us with Data Explorer so that we can query data using the GUI."
      ],
      "metadata": {
        "id": "EG2KnV6KiGnc"
      }
    },
    {
      "cell_type": "markdown",
      "source": [
        "**Namespace** - The concatenation of the database name and collection name is called a namespace."
      ],
      "metadata": {
        "id": "OzXw50b3klDA"
      }
    },
    {
      "cell_type": "markdown",
      "source": [
        "**Question** <br>\n",
        "In the sample_training.trips collection a person with birth year 1961 took a trip that started at \"Howard St & Centre St\". What was the end station name for that trip?<br>\n",
        "query: {\"start station name\": \"Howard St & Centre St\", \"birth year\":1961}<br>\n",
        "end station name :\"South End Ave & Liberty St\"\n"
      ],
      "metadata": {
        "id": "LdBm8qFWmyZy"
      }
    },
    {
      "cell_type": "markdown",
      "source": [
        "**Find Command**: returns a cursor with documents that matches the find query<br>\n",
        "**it command** : Iterates through a cursor.<br>\n",
        "**cursor** : A pointer to a result set of a query <br>\n",
        "**pointer**: A direct address of the memory location.\n",
        "\n"
      ],
      "metadata": {
        "id": "K96M9pASqKqM"
      }
    },
    {
      "cell_type": "markdown",
      "source": [
        "**Quiz:** <br>\n",
        "Problem: <br>\n",
        "\n",
        "What does it do in the mongo shell?\n",
        "\n",
        "* Iterates through the cursor results"
      ],
      "metadata": {
        "id": "iRhXIGdrml2_"
      }
    },
    {
      "cell_type": "markdown",
      "source": [
        "**Quiz:** <br>\n",
        "Problem:<br>\n",
        "\n",
        "Which of the following statements are true about the mongo shell?\n",
        "\n",
        "* It is a fully functioning JavaScript interpreter.<br>\n",
        "mongo shell is a fully functioning JavaScript interpreter, which means that you can create things like JavaScript functions and variables in it.\n",
        "\n",
        "* It allows you to interact with your MongoDB instance without using a Graphical User Interface.<br>\n",
        "There are other means of interacting with the database, such as through the Atlas UI, which is more visually supportive than the mongo shell."
      ],
      "metadata": {
        "id": "yo3yiZRomujB"
      }
    },
    {
      "cell_type": "code",
      "source": [
        "# Connect to the Atlas cluster:\n",
        "mongo \"mongodb+srv://<username>:<password>@<cluster>.mongodb.net/admin\""
      ],
      "metadata": {
        "id": "1cPqSoutigGC"
      },
      "execution_count": null,
      "outputs": []
    },
    {
      "cell_type": "code",
      "source": [
        "# show dbs\n",
        " \n",
        "use sample_training\n",
        "\n",
        "# show collections\n",
        "\n",
        "db.zips.find({\"state\": \"NY\"})"
      ],
      "metadata": {
        "id": "csBPozasil4H"
      },
      "execution_count": null,
      "outputs": []
    },
    {
      "cell_type": "code",
      "source": [
        "# Returns the number of documents that match the given query\n",
        "db.<collection name>.find(<query>).count()\n",
        "\n",
        "# Returns the documents that match the given query formatted for ease of reading\n",
        "db.<collection >.find(<query>).pretty()"
      ],
      "metadata": {
        "id": "lBlQeahKhQ6C"
      },
      "execution_count": null,
      "outputs": []
    }
  ]
}