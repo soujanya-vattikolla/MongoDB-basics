{
  "nbformat": 4,
  "nbformat_minor": 0,
  "metadata": {
    "colab": {
      "name": "Chapter 5: Indexing and Aggregation Pipeline.ipynb",
      "provenance": [],
      "collapsed_sections": [],
      "authorship_tag": "ABX9TyNSslYW0CE/GqKCbeYX7nGR",
      "include_colab_link": true
    },
    "kernelspec": {
      "name": "python3",
      "display_name": "Python 3"
    },
    "language_info": {
      "name": "python"
    }
  },
  "cells": [
    {
      "cell_type": "markdown",
      "metadata": {
        "id": "view-in-github",
        "colab_type": "text"
      },
      "source": [
        "<a href=\"https://colab.research.google.com/github/soujanya-vattikolla/MongoDB-basics/blob/main/Chapter5%20IndexingandAggregationPipeline.ipynb\" target=\"_parent\"><img src=\"https://colab.research.google.com/assets/colab-badge.svg\" alt=\"Open In Colab\"/></a>"
      ]
    },
    {
      "cell_type": "markdown",
      "source": [
        "**Aggregation framework**<br>\n",
        "It is just another way to query data in MongoDB."
      ],
      "metadata": {
        "id": "6-bzts5jud3h"
      }
    },
    {
      "cell_type": "code",
      "source": [
        "Example:\n",
        "\n",
        "Find all documents that have Wifi as one of the amenities. Only include price and address in the resulting cursor.\n",
        "\n",
        "db.listingsAndReviews.find({ \"amenities\": \"Wifi\" },\n",
        "                           { \"price\": 1, \"address\": 1, \"_id\": 0 }).pretty()"
      ],
      "metadata": {
        "id": "F6Oldl0b4bSN"
      },
      "execution_count": null,
      "outputs": []
    },
    {
      "cell_type": "code",
      "source": [
        "Example:\n",
        "\n",
        "Using the aggregation framework find all documents that have Wifi as one of the amenities``*. Only include* ``price and address in the resulting cursor.\n",
        "\n",
        "db.listingsAndReviews.aggregate([\n",
        "                                  { \"$match\": { \"amenities\": \"Wifi\" } },\n",
        "                                  { \"$project\": { \"price\": 1,\n",
        "                                                  \"address\": 1,\n",
        "                                                  \"_id\": 0 }}]).pretty()\n"
      ],
      "metadata": {
        "id": "NckciYQ-4h0z"
      },
      "execution_count": null,
      "outputs": []
    },
    {
      "cell_type": "code",
      "source": [
        "Example:\n",
        "\n",
        "Find one document in the collection and only include the address field in the resulting cursor.\n",
        "\n",
        "db.listingsAndReviews.findOne({ },{ \"address\": 1, \"_id\": 0 })"
      ],
      "metadata": {
        "id": "1nKFcJzU4nbG"
      },
      "execution_count": null,
      "outputs": []
    },
    {
      "cell_type": "code",
      "source": [
        "Example:\n",
        "\n",
        "Project only the address field value for each document, then group all documents into one document per address.country value.\n",
        "\n",
        "db.listingsAndReviews.aggregate([ { \"$project\": { \"address\": 1, \"_id\": 0 }},\n",
        "                                  { \"$group\": { \"_id\": \"$address.country\" }}])"
      ],
      "metadata": {
        "id": "W2FoUBry4xhq"
      },
      "execution_count": null,
      "outputs": []
    },
    {
      "cell_type": "code",
      "source": [
        "Example\n",
        "\n",
        "Project only the address field value for each document, then group all documents into one document per address.country value, and count one for each document in each group.\n",
        "\n",
        "db.listingsAndReviews.aggregate([\n",
        "                                  { \"$project\": { \"address\": 1, \"_id\": 0 }},\n",
        "                                  { \"$group\": { \"_id\": \"$address.country\",\n",
        "                                                \"count\": { \"$sum\": 1 } } }\n",
        "                                ])"
      ],
      "metadata": {
        "id": "xNiHQYd242xa"
      },
      "execution_count": null,
      "outputs": []
    },
    {
      "cell_type": "code",
      "source": [
        "Question\n",
        "\n",
        "What room types are present in the sample_airbnb.listingsAndReviews collection?\n",
        "\n",
        "db.listingsAndReviews.aggregate([ { \"$group\": { \"_id\": \"$room_type\" } }])"
      ],
      "metadata": {
        "id": "tRxqAU9H7Ij8"
      },
      "execution_count": null,
      "outputs": []
    },
    {
      "cell_type": "code",
      "source": [
        "Question\n",
        "\n",
        "What are the differences between using aggregate() and find()?\n",
        "\n",
        "aggregate() can do what find() can and more.\n",
        "aggregate() allows us to compute and reshape data in the cursor."
      ],
      "metadata": {
        "id": "yujYkIYu7MIz"
      },
      "execution_count": null,
      "outputs": []
    },
    {
      "cell_type": "markdown",
      "source": [
        "**sort() and limit()**"
      ],
      "metadata": {
        "id": "bxT7pKAd7z1Y"
      }
    },
    {
      "cell_type": "code",
      "source": [
        "Examples\n",
        "\n",
        "use sample_training\n",
        "\n",
        "db.zips.find().sort({ \"pop\": 1 }).limit(1)\n",
        "\n",
        "db.zips.find({ \"pop\": 0 }).count()\n",
        "\n",
        "db.zips.find().sort({ \"pop\": -1 }).limit(1)\n",
        "\n",
        "db.zips.find().sort({ \"pop\": -1 }).limit(10)\n",
        "\n",
        "db.zips.find().sort({ \"pop\": 1, \"city\": -1 })"
      ],
      "metadata": {
        "id": "WP-ysUoo7cHy"
      },
      "execution_count": null,
      "outputs": []
    },
    {
      "cell_type": "code",
      "source": [
        "Question\n",
        "\n",
        "Which of the following commands will return the name and founding year for the 5 oldest companies in the sample_training.companies collection?\n",
        "\n",
        "db.companies.find({ \"founded_year\": { \"$ne\": null }},\n",
        "                  { \"name\": 1, \"founded_year\": 1 }\n",
        "                 ).sort({ \"founded_year\": 1 }).limit(5)\n",
        "or\n",
        "\n",
        "db.companies.find({ \"founded_year\": { \"$ne\": null }},\n",
        "                  { \"name\": 1, \"founded_year\": 1 }\n",
        "                 ).limit(5).sort({ \"founded_year\": 1 })\n",
        "                 \n",
        "We first must filter out the documents where the founded year is not null, then project the fields that we are looking for, which is name, and founded_year in this case. Then we sort the cursor in increasing order, so the first results will have the smallest value for the founded_year field. Finally, we limit the results to our top 5 documents in the cursor, thus getting the 5 oldest companies in this collection."
      ],
      "metadata": {
        "id": "YB4DQ_SJ8y88"
      },
      "execution_count": null,
      "outputs": []
    },
    {
      "cell_type": "code",
      "source": [
        "Question\n",
        "\n",
        "In what year was the youngest bike rider from the sample_training.trips collection born?\n",
        "\n",
        "db.trips.find({ \"birth year\": { \"$ne\":\"\" } },\n",
        "              { \"birth year\": 1 }).sort({ \"birth year\": -1 }).limit(1)"
      ],
      "metadata": {
        "id": "33AoOGY6_iZQ"
      },
      "execution_count": null,
      "outputs": []
    },
    {
      "cell_type": "markdown",
      "source": [
        "**Introduction to Indexes**"
      ],
      "metadata": {
        "id": "ODNGcPbQ_y39"
      }
    },
    {
      "cell_type": "code",
      "source": [
        "Examples:\n",
        "\n",
        "use sample_training\n",
        "\n",
        "db.trips.find({ \"birth year\": 1989 })\n",
        "\n",
        "db.trips.find({ \"start station id\": 476 }).sort( { \"birth year\": 1 } )\n",
        "\n",
        "# Single Field index\n",
        "db.trips.createIndex({ \"birth year\": 1 })\n",
        "\n",
        "#Compound index\n",
        "db.trips.createIndex({ \"start station id\": 1, \"birth year\": 1 })"
      ],
      "metadata": {
        "id": "YW98fgS5_zoQ"
      },
      "execution_count": null,
      "outputs": []
    },
    {
      "cell_type": "code",
      "source": [
        "Problem:\n",
        "\n",
        "Jameela often queries the sample_training.routes collection by the src_airport field like this:\n",
        "db.routes.find({ \"src_airport\": \"MUC\" }).pretty()\n",
        "\n",
        "db.routes.createIndex({ \"src_airport\": -1 })\n",
        "# It doesn't really matter whether the index was created in increasing or decreasing order when it is a simple single-field index."
      ],
      "metadata": {
        "id": "Wia3drAjBXdR"
      },
      "execution_count": null,
      "outputs": []
    },
    {
      "cell_type": "markdown",
      "source": [
        "**Introduction to Data Modeling**"
      ],
      "metadata": {
        "id": "th2YGXNCBpSr"
      }
    },
    {
      "cell_type": "markdown",
      "source": [
        "Data modeling - a way to organize fields in a document to support your application performance and querying capabilities."
      ],
      "metadata": {
        "id": "nb_MdjBLCL-5"
      }
    },
    {
      "cell_type": "markdown",
      "source": [
        "Data that is **used** together should be **stored** together."
      ],
      "metadata": {
        "id": "FSpoqVqrDRIT"
      }
    },
    {
      "cell_type": "code",
      "source": [
        "Question:\n",
        "\n",
        "What is data modeling?\n",
        "\n",
        "Data modeling is a way to organize your data, which includes making decisions about fields, collections, and datatypes that will be used in each collection."
      ],
      "metadata": {
        "id": "ILSfBCXGBksq"
      },
      "execution_count": null,
      "outputs": []
    },
    {
      "cell_type": "markdown",
      "source": [
        "**Upsert - Update or Insert?**"
      ],
      "metadata": {
        "id": "Kim6AJXED2vv"
      }
    },
    {
      "cell_type": "code",
      "source": [
        "Upsert is a hybrid of update and insert, it should only be used when it is needed.\n",
        "\n",
        "* db.collection.updateOne({<query>},{<update>},{\"upsert\":true})"
      ],
      "metadata": {
        "id": "V75IsRKhGC2T"
      },
      "execution_count": null,
      "outputs": []
    },
    {
      "cell_type": "markdown",
      "source": [
        "upsert: True\n",
        "* Conditional updates\n",
        "\n",
        "upsert:False\n",
        "* Update an existing document\n",
        "* Insert a new document"
      ],
      "metadata": {
        "id": "UqtMu6gRFbHc"
      }
    }
  ]
}