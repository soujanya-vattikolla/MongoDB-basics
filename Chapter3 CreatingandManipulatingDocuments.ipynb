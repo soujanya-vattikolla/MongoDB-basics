{
  "nbformat": 4,
  "nbformat_minor": 0,
  "metadata": {
    "colab": {
      "name": "Chapter 3: Creating and Manipulating Documents",
      "provenance": [],
      "collapsed_sections": [],
      "authorship_tag": "ABX9TyPY7nkeNlQRrJh5Z+pwViNU",
      "include_colab_link": true
    },
    "kernelspec": {
      "name": "python3",
      "display_name": "Python 3"
    },
    "language_info": {
      "name": "python"
    }
  },
  "cells": [
    {
      "cell_type": "markdown",
      "metadata": {
        "id": "view-in-github",
        "colab_type": "text"
      },
      "source": [
        "<a href=\"https://colab.research.google.com/github/soujanya-vattikolla/MongoDB-basics/blob/main/Chapter3%20CreatingandManipulatingDocuments.ipynb\" target=\"_parent\"><img src=\"https://colab.research.google.com/assets/colab-badge.svg\" alt=\"Open In Colab\"/></a>"
      ]
    },
    {
      "cell_type": "markdown",
      "source": [
        "**Inserting New Documents - ObjectId**"
      ],
      "metadata": {
        "id": "a8kfodUEvCqZ"
      }
    },
    {
      "cell_type": "markdown",
      "source": [
        "**_id: why is it imp?**<br>\n",
        "Every document must have a unique _id value."
      ],
      "metadata": {
        "id": "QsgFkP_KvbKK"
      }
    },
    {
      "cell_type": "markdown",
      "source": [
        "**ObjectId()** is the default value for the _id field unless specified.\n"
      ],
      "metadata": {
        "id": "xt4WZVXSw4iD"
      }
    },
    {
      "cell_type": "markdown",
      "source": [
        "**findOne()**: is used when you want to know about the shape of document in the collection."
      ],
      "metadata": {
        "id": "vZWElhB6zBQr"
      }
    },
    {
      "cell_type": "markdown",
      "source": [
        "Identical documents can exist in the same collection as long as their _id values are different."
      ],
      "metadata": {
        "id": "VOOBMS1U0QAW"
      }
    },
    {
      "cell_type": "markdown",
      "source": [
        "Steps to do insertion:"
      ],
      "metadata": {
        "id": "ubKZEcOC0-NX"
      }
    },
    {
      "cell_type": "code",
      "source": [
        "# Step one: Connect to the Atlas cluster\n",
        "mongo \"mongodb+srv://<username>:<password>@<cluster>.mongodb.net/admin\"\n",
        "\n",
        "# Step two: navigate to the database that we need:\n",
        "use sample_training\n",
        "\n",
        "# Step three, get a random document from the collection:\n",
        "db.inspections.findOne();\n",
        "\n",
        "# Step four, copy this random document, and try to insert in into the collection:\n",
        "\n",
        "db.inspections.insert({\n",
        "      \"_id\" : ObjectId(\"56d61033a378eccde8a8354f\"),\n",
        "      \"id\" : \"10021-2015-ENFO\",\n",
        "      \"certificate_number\" : 9278806,\n",
        "      \"business_name\" : \"ATLIXCO DELI GROCERY INC.\",\n",
        "      \"date\" : \"Feb 20 2015\",\n",
        "      \"result\" : \"No Violation Issued\",\n",
        "      \"sector\" : \"Cigarette Retail Dealer - 127\",\n",
        "      \"address\" : {\n",
        "              \"city\" : \"RIDGEWOOD\",\n",
        "              \"zip\" : 11385,\n",
        "              \"street\" : \"MENAHAN ST\",\n",
        "              \"number\" : 1712\n",
        "         }\n",
        "  })\n",
        "\n",
        "db.inspections.insert({\n",
        "      \"id\" : \"10021-2015-ENFO\",\n",
        "      \"certificate_number\" : 9278806,\n",
        "      \"business_name\" : \"ATLIXCO DELI GROCERY INC.\",\n",
        "      \"date\" : \"Feb 20 2015\",\n",
        "      \"result\" : \"No Violation Issued\",\n",
        "      \"sector\" : \"Cigarette Retail Dealer - 127\",\n",
        "      \"address\" : {\n",
        "              \"city\" : \"RIDGEWOOD\",\n",
        "              \"zip\" : 11385,\n",
        "              \"street\" : \"MENAHAN ST\",\n",
        "              \"number\" : 1712\n",
        "         }\n",
        "  })\n",
        "\n",
        "db.inspections.find({\"id\" : \"10021-2015-ENFO\", \"certificate_number\" : 9278806}).pretty()\n"
      ],
      "metadata": {
        "id": "Ux9WaB5X0sFz"
      },
      "execution_count": null,
      "outputs": []
    },
    {
      "cell_type": "markdown",
      "source": [
        "**Inserting New Documents - insert() order**"
      ],
      "metadata": {
        "id": "jh4ughFZ1bop"
      }
    },
    {
      "cell_type": "markdown",
      "source": [
        "Insert multiple documents by using an array:<br>\n",
        "db.collection.insert([{doc1},{doc2}]) <br>\n",
        "\n",
        "To disable the default ordered insert<br>\n",
        "Use {\"ordered\":false} <br>\n",
        "\n",
        "Collections and databases are created when they are being used:<br>\n",
        "use tools <br>\n",
        "db.tractors.insert({tractor doc})<br>\n",
        "Finally, it creates the tools.tractors namespace"
      ],
      "metadata": {
        "id": "QTd9fhMB3Lkm"
      }
    },
    {
      "cell_type": "code",
      "source": [
        "# Example\n",
        "# Insert three test documents:\n",
        "db.inspections.insert([ { \"test\": 1 }, { \"test\": 2 }, { \"test\": 3 } ])\n",
        "\n",
        "# Insert three test documents but specify the _id values:\n",
        "db.inspections.insert([{ \"_id\": 1, \"test\": 1 },{ \"_id\": 1, \"test\": 2 },\n",
        "                       { \"_id\": 3, \"test\": 3 }])\n",
        "\n",
        "# Find the documents with _id: 1\n",
        "db.inspections.find({ \"_id\": 1 })\n",
        "\n",
        "# Insert multiple documents specifying the _id values, and using the \"ordered\": false option.\n",
        "db.inspections.insert([{ \"_id\": 1, \"test\": 1 },{ \"_id\": 1, \"test\": 2 },\n",
        "                       { \"_id\": 3, \"test\": 3 }],{ \"ordered\": false })\n",
        "\n",
        "# Insert multiple documents with _id: 1 with the default \"ordered\": true setting\n",
        "db.inspection.insert([{ \"_id\": 1, \"test\": 1 },{ \"_id\": 3, \"test\": 3 }])\n",
        "\n",
        "# View collections in the active db\n",
        "show collections\n",
        "\n",
        "# Switch the active db to training\n",
        "use training\n",
        "\n",
        "# View all available databases\n",
        "show dbs\n"
      ],
      "metadata": {
        "id": "gjd7zRcb1gT_"
      },
      "execution_count": null,
      "outputs": []
    },
    {
      "cell_type": "markdown",
      "source": [
        "**Updating Documents**"
      ],
      "metadata": {
        "id": "ylLWW3Tyc2YI"
      }
    },
    {
      "cell_type": "markdown",
      "source": [
        "**findOne**- which returns the **first document** that happens to match the given query.<br>\n",
        "**find**- which returns a cursor with **all the document**s that correspond to the given query.\n",
        "\n"
      ],
      "metadata": {
        "id": "M__Fcgavc448"
      }
    },
    {
      "cell_type": "markdown",
      "source": [
        "**UpdateOne** - if there are multiple documents that match a given criteria, **only one of them will be updated**, whichever one this operation finds first. <br>\n",
        "**updateMany** - will **update all documents** that match a given query."
      ],
      "metadata": {
        "id": "KjEvF3lEk6vp"
      }
    },
    {
      "cell_type": "code",
      "source": [
        "# Connect to your Atlas Cluster.\n",
        "mongo \"mongodb+srv://<username>:<password>@<cluster>.mongodb.net/admin\"\n",
        "\n",
        "# Use the sample_training database\n",
        "use sample_training\n",
        "\n",
        "# Find all documents in the zips collection where the zip field is equal to \"12434\".\n",
        "db.zips.find({ \"zip\": \"12534\" }).pretty()\n",
        "\n",
        "# Find all documents in the zips collection where the city field is equal to \"HUDSON\".\n",
        "db.zips.find({ \"city\": \"HUDSON\" }).pretty()\n",
        "\n",
        "# Find how many documents in the zips collection have the city field equal to \"HUDSON\".\n",
        "db.zips.find({ \"city\": \"HUDSON\" }).count()\n",
        "\n",
        "# Update all documents in the zips collection where the city field is equal to \"HUDSON\" by adding 10 to the current value of the \"pop\" field.\n",
        "\n",
        "# $inc, which is an MQL update operator.It increments the value of a specified field by the given amount.\n",
        "\n",
        "db.zips.updateMany({ \"city\": \"HUDSON\" }, { \"$inc\": { \"pop\": 10 } })\n",
        "\n",
        "# Update a single document in the zips collection where the zip field is equal to \"12534\" by setting the value of the \"pop\" field to 17630.\n",
        "\n",
        "# $set is used, it updates the value of the given field with a specified value.\n",
        "\n",
        "db.zips.updateOne({ \"zip\": \"12534\" }, { \"$set\": { \"pop\": 17630 } })\n",
        "\n",
        "# Update a single document in the zips collection where the zip field is equal to \"12534\" by setting the value of the \"population\" field to 17630.\n",
        "db.zips.updateOne({ \"zip\": \"12534\" }, { \"$set\": { \"population\": 17630 } })\n",
        "\n",
        "# Find all documents in the grades collection where the student_id field is 151 , and the class_id field is 339.\n",
        "db.grades.find({ \"student_id\": 151, \"class_id\": 339 }).pretty()\n",
        "\n",
        "# Find all documents in the grades collection where the student_id field is 250 , and the class_id field is 339.\n",
        "db.grades.find({ \"student_id\": 250, \"class_id\": 339 }).pretty()\n",
        "\n",
        "# Update one document in the grades collection where the student_id is ``250`` *, and the class_id field is 339 , by adding a document element to the \"scores\" array.\n",
        "\n",
        "# $push will add an array field to the document with a specified value.\n",
        "\n",
        "db.grades.updateOne({ \"student_id\": 250, \"class_id\": 339 },\n",
        "                    { \"$push\": { \"scores\": { \"type\": \"extra credit\",\n",
        "                                             \"score\": 100 }\n",
        "                                }\n",
        "                     })\n"
      ],
      "metadata": {
        "id": "DGfp4w7WlbFD"
      },
      "execution_count": null,
      "outputs": []
    },
    {
      "cell_type": "markdown",
      "source": [
        "Quiz"
      ],
      "metadata": {
        "id": "CZbYo5IQ8vDl"
      }
    },
    {
      "cell_type": "code",
      "source": [
        "# Given a pets collection where each document has the following structure and fields:\n",
        "{\n",
        " \"_id\": ObjectId(\"5ec414e5e722bb1f65a25451\"),\n",
        " \"pet\": \"wolf\",\n",
        " \"domestic?\": false,\n",
        " \"diet\": \"carnivorous\",\n",
        " \"climate\": [\"polar\", \"equatorial\", \"continental\", \"mountain\"]\n",
        "}\n",
        "\n",
        "# Which of the following commands will add new fields to the updated documents?\n",
        "\n",
        "db.pets.updateMany({ \"pet\": \"cat\" },\n",
        "                   { \"$set\": { \"type\": \"dangerous\",\n",
        "                               \"look\": \"adorable\" }})\n",
        "# This is correct.\n",
        "\n",
        "# Fields \"type\" and \"look\" do not exist in the existing documents in the collection, so this command will create new fields with the given values for all documents that have the \"pet\" field equal to \"cat\".\n",
        "\n",
        "db.pets.updateMany({ \"pet\": \"cat\" },\n",
        "                   { \"$push\": { \"climate\": \"continental\",\n",
        "                                \"look\": \"adorable\" } })\n",
        "\n",
        "# This is correct.\n",
        "\n",
        "# While the \"climate\" field is already present in the documents in this collection, the field \"look\" is new, and this command will create a new array field called \"look\", with one element \"adorable\" in it.\n",
        "\n",
        "db.pets.updateMany({ \"pet\": \"cat\" },\n",
        "                   {\"$set\": { \"domestic?\": true, \"diet\": \"mice\" }})\n",
        "\n",
        "# This is incorrect.\n",
        "\n",
        "# Both \"domestic?\" and \"diet\" are fields that exist in all documents in this collection. This update command will update the values of existing fields, rather than create new ones.\n",
        "\n",
        "db.pets.updateMany({ \"pet\": \"cat\" },\n",
        "                   { \"$set\": { \"climate\": \"continental\" }})\n",
        "\n",
        "# This is incorrect.\n",
        "\n",
        "# The field \"climate\" already exists in all documents in this collection, however, it is an array field. This doesn't mean that the $set operator cannot be used here. The set operator will simply change the array value of the \"climate\" field to a single string element \"continental\".\n"
      ],
      "metadata": {
        "id": "Bg9acG1R8uS5"
      },
      "execution_count": null,
      "outputs": []
    },
    {
      "cell_type": "markdown",
      "source": [
        "**Deleting Documents and Collections**"
      ],
      "metadata": {
        "id": "hr5ZxR4j9lxd"
      }
    },
    {
      "cell_type": "markdown",
      "source": [
        "**deleteOne():**which deletes the  document that happens to match the given query.<br>\n",
        "\n",
        "**deleteMany():** will delete all the documents that match the query.\n",
        "\n",
        "**db.collectionname.drop()**: We can also delete the collection "
      ],
      "metadata": {
        "id": "Zxa3jxr-Ah7i"
      }
    },
    {
      "cell_type": "code",
      "source": [
        "# examples\n",
        "\n",
        "mongo \"mongodb+srv://<username>:<password>@<cluster>.mongodb.net/admin\"\n",
        "\n",
        "# use sample_training\n",
        "\n",
        "# Look at all the docs that have test field equal to 1.\n",
        "\n",
        "db.inspections.find({ \"test\": 1 }).pretty()\n",
        "\n",
        "# Look at all the docs that have test field equal to 3.\n",
        "\n",
        "db.inspections.find({ \"test\": 3 }).pretty()\n",
        "\n",
        "# Delete all the documents that have test field equal to 1.\n",
        "\n",
        "db.inspections.deleteMany({ \"test\": 1 })\n",
        "\n",
        "# Delete one document that has test field equal to 3.\n",
        "\n",
        "db.inspections.deleteOne({ \"test\": 3 })\n",
        "\n",
        "# Inspect what is left of the inspection collection.\n",
        "\n",
        "db.inspection.find().pretty()\n",
        "\n",
        "# View what collections are present in the sample_training collection.\n",
        "\n",
        "show collections\n",
        "\n",
        "# Drop the inspection collection.\n",
        "\n",
        "db.inspection.drop()\n"
      ],
      "metadata": {
        "id": "GZJwWK_QCML1"
      },
      "execution_count": null,
      "outputs": []
    }
  ]
}