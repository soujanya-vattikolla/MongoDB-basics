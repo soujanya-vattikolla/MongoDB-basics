{
  "nbformat": 4,
  "nbformat_minor": 0,
  "metadata": {
    "colab": {
      "name": "Chapter 1: What is MongoDB",
      "provenance": [],
      "collapsed_sections": [],
      "authorship_tag": "ABX9TyM1PR44ikoQn5jtMhJEbly0",
      "include_colab_link": true
    },
    "kernelspec": {
      "name": "python3",
      "display_name": "Python 3"
    },
    "language_info": {
      "name": "python"
    }
  },
  "cells": [
    {
      "cell_type": "markdown",
      "metadata": {
        "id": "view-in-github",
        "colab_type": "text"
      },
      "source": [
        "<a href=\"https://colab.research.google.com/github/soujanya-vattikolla/MongoDB-basics/blob/main/Chapter1%20What%20is%20MongoDB.ipynb\" target=\"_parent\"><img src=\"https://colab.research.google.com/assets/colab-badge.svg\" alt=\"Open In Colab\"/></a>"
      ]
    },
    {
      "cell_type": "markdown",
      "source": [
        "**What is MongoDB Database?**"
      ],
      "metadata": {
        "id": "24zLJYDWPJLl"
      }
    },
    {
      "cell_type": "markdown",
      "source": [
        "* MongoDB database is a NoSQL document database.\n",
        "* The documents are in turn stored in a collection of documents.\n",
        "\n"
      ],
      "metadata": {
        "id": "qjKFKhgiTaPs"
      }
    },
    {
      "cell_type": "markdown",
      "source": [
        "**Quiz:**<br>\n",
        "Problem: <br>\n",
        "\n",
        "Why is MongoDB a NoSQL database? <br>\n",
        "* Because it does not utilize tables, rows and columns to organize data.\n",
        "* Because it uses a structured way to store and access data"
      ],
      "metadata": {
        "id": "bRX_u9h2jUQJ"
      }
    },
    {
      "cell_type": "markdown",
      "source": [
        "**What is a Document in MongoDB?**"
      ],
      "metadata": {
        "id": "TKdbasEObXxV"
      }
    },
    {
      "cell_type": "markdown",
      "source": [
        "* Document- A way to organize and store data as a set of field-value pairs.<br>\n",
        "  Field- a unique identifier for a datapoint.<br>\n",
        "  Value- data related to the unique identifier.<br>\n",
        "* Collection - an organized store of documents in MongoDB, with common fields between the documents.\n",
        "* There can be many collections per database and many documents per collection."
      ],
      "metadata": {
        "id": "uGFpBBDHbYqi"
      }
    },
    {
      "cell_type": "markdown",
      "source": [
        "**Quiz 1:** <br>\n",
        "Select the statements that together help build the most complete definition of the MongoDB database:<br>\n",
        "\n",
        "* MongoDB database is an organized way to store and access data.\n",
        "* MongoDB is a NoSQL database that uses documents to store data in an organized way."
      ],
      "metadata": {
        "id": "4X6303dDjhs2"
      }
    },
    {
      "cell_type": "markdown",
      "source": [
        "**Quiz 2**:<br>\n",
        "Problem:<br>\n",
        "\n",
        "In MongoDB how does a document relate to a collection? <br>\n",
        "* Collections consist of many documents."
      ],
      "metadata": {
        "id": "pZovTtEVj341"
      }
    },
    {
      "cell_type": "markdown",
      "source": [
        "**Quiz 3**<br>\n",
        "Problem:<br>\n",
        "\n",
        "In a MongoDB Document what is the role of fields and values?<br>\n",
        "* A field is a unique identifier for a specific datapoint.\n",
        "* Each field has a value associated with it."
      ],
      "metadata": {
        "id": "EkntZLU3kCX8"
      }
    },
    {
      "cell_type": "markdown",
      "source": [
        "**What is MongoDB Atlas?**"
      ],
      "metadata": {
        "id": "b2OOQ5BYcbq2"
      }
    },
    {
      "cell_type": "markdown",
      "source": [
        "* **Atlas** is a fully managed database, which is used for wide range of applications.\n",
        "* In Atlas MongoDB is used for data storage and retrieval.\n",
        "* **Cluster** - group of servers that stores the data\n",
        "* **Replica set** - a few connected MongoDB instances that store the same data , to ensure that if something happens to one of the machines the data will remain intact.\n",
        "* **Instance** - a single machine locally or in the cloud, running  a certain software e.g: MongoDB database.\n",
        "* **Services of Atlas:**\n",
        "1. Manage cluster creation.\n",
        "2. Run and maintain database deployment.\n",
        "3. Use cloud service provider of your choice\n",
        "* We will be using a Atlas free tier:\n",
        "1. 3-server replica set\n",
        "2. 512 MB storage\n",
        "3. Never expires"
      ],
      "metadata": {
        "id": "e8VolkJ_f-iV"
      }
    },
    {
      "cell_type": "markdown",
      "source": [
        "**Quiz:** <br>\n",
        "Problem:<br>\n",
        "\n",
        "How is MongoDB Atlas related to MongoDB the Database? <br>\n",
        "* They are both MongoDB products.\n",
        "* Atlas has many tools and services within it that are built specifically for the MongoDB Database.\n"
      ],
      "metadata": {
        "id": "w6o2IMMgkT9v"
      }
    }
  ]
}